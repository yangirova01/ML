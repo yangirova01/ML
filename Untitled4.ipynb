{
  "nbformat": 4,
  "nbformat_minor": 0,
  "metadata": {
    "colab": {
      "provenance": []
    },
    "kernelspec": {
      "name": "python3",
      "display_name": "Python 3"
    },
    "language_info": {
      "name": "python"
    }
  },
  "cells": [
    {
      "cell_type": "code",
      "execution_count": null,
      "metadata": {
        "id": "YlaZSnhQqNE4"
      },
      "outputs": [],
      "source": [
        "import pandas as pd\n",
        "import matplotlib.pyplot as plt"
      ]
    },
    {
      "cell_type": "markdown",
      "source": [
        "# **1 задание**\n"
      ],
      "metadata": {
        "id": "PKR_9jRDqO-r"
      }
    },
    {
      "cell_type": "markdown",
      "source": [
        "Распределение выживших среди мужчин и женщин по классу билета."
      ],
      "metadata": {
        "id": "77wszUYiqUys"
      }
    },
    {
      "cell_type": "code",
      "source": [
        "df=pd.read_csv(\"train.csv\")\n",
        "print(df)"
      ],
      "metadata": {
        "colab": {
          "base_uri": "https://localhost:8080/"
        },
        "id": "Xw5CHN7-qVj5",
        "outputId": "ccd81fc5-7e6f-4459-d118-7409a7b72feb"
      },
      "execution_count": 4,
      "outputs": [
        {
          "output_type": "stream",
          "name": "stdout",
          "text": [
            "     PassengerId  Survived  Pclass  \\\n",
            "0              1         0       3   \n",
            "1              2         1       1   \n",
            "2              3         1       3   \n",
            "3              4         1       1   \n",
            "4              5         0       3   \n",
            "..           ...       ...     ...   \n",
            "886          887         0       2   \n",
            "887          888         1       1   \n",
            "888          889         0       3   \n",
            "889          890         1       1   \n",
            "890          891         0       3   \n",
            "\n",
            "                                                  Name     Sex   Age  SibSp  \\\n",
            "0                              Braund, Mr. Owen Harris    male  22.0      1   \n",
            "1    Cumings, Mrs. John Bradley (Florence Briggs Th...  female  38.0      1   \n",
            "2                               Heikkinen, Miss. Laina  female  26.0      0   \n",
            "3         Futrelle, Mrs. Jacques Heath (Lily May Peel)  female  35.0      1   \n",
            "4                             Allen, Mr. William Henry    male  35.0      0   \n",
            "..                                                 ...     ...   ...    ...   \n",
            "886                              Montvila, Rev. Juozas    male  27.0      0   \n",
            "887                       Graham, Miss. Margaret Edith  female  19.0      0   \n",
            "888           Johnston, Miss. Catherine Helen \"Carrie\"  female   NaN      1   \n",
            "889                              Behr, Mr. Karl Howell    male  26.0      0   \n",
            "890                                Dooley, Mr. Patrick    male  32.0      0   \n",
            "\n",
            "     Parch            Ticket     Fare Cabin Embarked  \n",
            "0        0         A/5 21171   7.2500   NaN        S  \n",
            "1        0          PC 17599  71.2833   C85        C  \n",
            "2        0  STON/O2. 3101282   7.9250   NaN        S  \n",
            "3        0            113803  53.1000  C123        S  \n",
            "4        0            373450   8.0500   NaN        S  \n",
            "..     ...               ...      ...   ...      ...  \n",
            "886      0            211536  13.0000   NaN        S  \n",
            "887      0            112053  30.0000   B42        S  \n",
            "888      2        W./C. 6607  23.4500   NaN        S  \n",
            "889      0            111369  30.0000  C148        C  \n",
            "890      0            370376   7.7500   NaN        Q  \n",
            "\n",
            "[891 rows x 12 columns]\n"
          ]
        }
      ]
    },
    {
      "cell_type": "code",
      "source": [
        "mdf=df[df[\"Sex\"].isin([\"male\"])]\n",
        "fmf=df[df[\"Sex\"].isin([\"female\"])]"
      ],
      "metadata": {
        "id": "3tX_zxj1v-AO"
      },
      "execution_count": 5,
      "outputs": []
    },
    {
      "cell_type": "code",
      "source": [
        "smdf=mdf[['Survived','Pclass']][mdf['Survived']==1].groupby('Pclass').count()\n",
        "smdf.plot.bar()\n",
        "plt.show()"
      ],
      "metadata": {
        "colab": {
          "base_uri": "https://localhost:8080/",
          "height": 276
        },
        "id": "AjCQRmWVwAqC",
        "outputId": "e1221fc2-4cd2-4328-e6b4-3f34826edc20"
      },
      "execution_count": 6,
      "outputs": [
        {
          "output_type": "display_data",
          "data": {
            "text/plain": [
              "<Figure size 432x288 with 1 Axes>"
            ],
            "image/png": "[encoded data removed]"
          },
          "metadata": {
            "needs_background": "light"
          }
        }
      ]
    },
    {
      "cell_type": "code",
      "source": [
        "sfdf=fmf[['Survived','Pclass']][fmf['Survived']==1].groupby('Pclass').count()\n",
        "sfdf.plot.bar()\n",
        "plt.show()"
      ],
      "metadata": {
        "colab": {
          "base_uri": "https://localhost:8080/",
          "height": 276
        },
        "id": "ySqPKNMtwC8y",
        "outputId": "15bca78f-46b9-458c-e9fb-5b584fe6a970"
      },
      "execution_count": 7,
      "outputs": [
        {
          "output_type": "display_data",
          "data": {
            "text/plain": [
              "<Figure size 432x288 with 1 Axes>"
            ],
            "image/png": "[encoded data removed]"
          },
          "metadata": {
            "needs_background": "light"
          }
        }
      ]
    },
    {
      "cell_type": "markdown",
      "source": [
        "Построить круговую диаграмму для признака \"класс пассажира\" (количество людей в каждом классе)\n"
      ],
      "metadata": {
        "id": "X14ToRFuwFny"
      }
    },
    {
      "cell_type": "code",
      "source": [
        "cdf=df[['PassengerId','Pclass']].groupby('Pclass').count()\n",
        "cdf['PassengerId'].plot(kind=\"pie\", label=\"\")\n",
        "plt.show()"
      ],
      "metadata": {
        "id": "-yASbxctwI-y"
      },
      "execution_count": null,
      "outputs": []
    },
    {
      "cell_type": "markdown",
      "source": [
        "**Построить распределение возрастов всех пассажиров.**\n"
      ],
      "metadata": {
        "id": "8yJdPSRCwLFG"
      }
    },
    {
      "cell_type": "code",
      "source": [
        "df[['Age','PassengerId']].groupby('Age').count().plot.bar()\n",
        "plt.show()"
      ],
      "metadata": {
        "colab": {
          "base_uri": "https://localhost:8080/",
          "height": 292
        },
        "id": "R0S1_qgSwQMF",
        "outputId": "0fd3cf0e-6294-4bae-93b3-3f46d3c5b4c6"
      },
      "execution_count": 8,
      "outputs": [
        {
          "output_type": "display_data",
          "data": {
            "text/plain": [
              "<Figure size 432x288 with 1 Axes>"
            ],
            "image/png": "[encoded data removed]"
          },
          "metadata": {
            "needs_background": "light"
          }
        }
      ]
    }
  ]
}