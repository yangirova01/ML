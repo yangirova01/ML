{
  "nbformat": 4,
  "nbformat_minor": 0,
  "metadata": {
    "colab": {
      "provenance": []
    },
    "kernelspec": {
      "name": "python3",
      "display_name": "Python 3"
    },
    "language_info": {
      "name": "python"
    }
  },
  "cells": [
    {
      "cell_type": "code",
      "source": [
        "import numpy as np\n",
        "import keras\n",
        "import tensorflow as tf\n",
        "from tensorflow.keras import layers\n",
        "import matplotlib.pyplot as plt\n",
        "import random"
      ],
      "metadata": {
        "id": "y_6YiOIKI0hu"
      },
      "execution_count": null,
      "outputs": []
    },
    {
      "cell_type": "code",
      "source": [
        "# Model / data parameters\n",
        "num_classes = 10\n",
        "input_shape = (28, 28, 1)\n",
        "\n",
        "# the data, split between train and test sets\n",
        "(x_train, y_train), (x_test, y_test) = tf.keras.datasets.mnist.load_data()\n",
        "\n",
        "# Scale images to the [0, 1] range\n",
        "x_train = x_train.astype(\"float32\") / 255\n",
        "x_test = x_test.astype(\"float32\") / 255\n",
        "# Make sure images have shape (28, 28, 1)\n",
        "x_train = np.expand_dims(x_train, -1)\n",
        "x_test = np.expand_dims(x_test, -1)\n",
        "\n",
        "# convert class vectors to binary class matrices\n",
        "y_train = tf.keras.utils.to_categorical(y_train, num_classes)\n",
        "y_test = tf.keras.utils.to_categorical(y_test, num_classes)"
      ],
      "metadata": {
        "colab": {
          "base_uri": "https://localhost:8080/"
        },
        "id": "4Zk5Ge5fI4yU",
        "outputId": "0038476f-483b-438a-8ec5-482fe2a682e7"
      },
      "execution_count": null,
      "outputs": [
        {
          "output_type": "stream",
          "name": "stdout",
          "text": [
            "Downloading data from https://storage.googleapis.com/tensorflow/tf-keras-datasets/mnist.npz\n",
            "11493376/11490434 [==============================] - 0s 0us/step\n",
            "11501568/11490434 [==============================] - 0s 0us/step\n"
          ]
        }
      ]
    },
    {
      "cell_type": "code",
      "source": [
        "model = keras.Sequential(\n",
        "    [\n",
        "        keras.Input(shape=input_shape),\n",
        "        layers.Conv2D(32, kernel_size=(3, 3), activation=\"relu\"),\n",
        "        layers.MaxPooling2D(pool_size=(2, 2)),\n",
        "        layers.Conv2D(64, kernel_size=(3, 3), activation=\"relu\"),\n",
        "        layers.MaxPooling2D(pool_size=(2, 2)),\n",
        "        layers.Flatten(),\n",
        "        layers.Dropout(0.5),\n",
        "        layers.Dense(num_classes, activation=\"softmax\"),\n",
        "    ]\n",
        ")"
      ],
      "metadata": {
        "id": "4QERAs-sI7e5"
      },
      "execution_count": null,
      "outputs": []
    },
    {
      "cell_type": "code",
      "source": [
        "batch_size = 128\n",
        "epochs = 15\n",
        "\n",
        "model.compile(loss=\"categorical_crossentropy\", optimizer=\"adam\", metrics=[\"accuracy\"])\n",
        "\n",
        "model.fit(x_train, y_train, batch_size=batch_size, epochs=epochs, validation_split=0.1)\n",
        "score = model.evaluate(x_test, y_test, verbose=0)"
      ],
      "metadata": {
        "colab": {
          "base_uri": "https://localhost:8080/"
        },
        "id": "YP90eJrZI_T1",
        "outputId": "5f39c08b-79a0-404b-ec2e-3932415c59de"
      },
      "execution_count": null,
      "outputs": [
        {
          "output_type": "stream",
          "name": "stdout",
          "text": [
            "Epoch 1/15\n",
            "422/422 [==============================] - 48s 111ms/step - loss: 0.3644 - accuracy: 0.8906 - val_loss: 0.0829 - val_accuracy: 0.9767\n",
            "Epoch 2/15\n",
            "422/422 [==============================] - 41s 96ms/step - loss: 0.1128 - accuracy: 0.9653 - val_loss: 0.0597 - val_accuracy: 0.9847\n",
            "Epoch 3/15\n",
            "422/422 [==============================] - 42s 100ms/step - loss: 0.0856 - accuracy: 0.9749 - val_loss: 0.0497 - val_accuracy: 0.9863\n",
            "Epoch 4/15\n",
            "422/422 [==============================] - 41s 96ms/step - loss: 0.0698 - accuracy: 0.9777 - val_loss: 0.0462 - val_accuracy: 0.9863\n",
            "Epoch 5/15\n",
            "422/422 [==============================] - 40s 96ms/step - loss: 0.0625 - accuracy: 0.9806 - val_loss: 0.0484 - val_accuracy: 0.9863\n",
            "Epoch 6/15\n",
            "422/422 [==============================] - 40s 96ms/step - loss: 0.0566 - accuracy: 0.9828 - val_loss: 0.0341 - val_accuracy: 0.9913\n",
            "Epoch 7/15\n",
            "422/422 [==============================] - 40s 96ms/step - loss: 0.0509 - accuracy: 0.9838 - val_loss: 0.0331 - val_accuracy: 0.9912\n",
            "Epoch 8/15\n",
            "422/422 [==============================] - 40s 96ms/step - loss: 0.0482 - accuracy: 0.9848 - val_loss: 0.0325 - val_accuracy: 0.9912\n",
            "Epoch 9/15\n",
            "422/422 [==============================] - 40s 95ms/step - loss: 0.0447 - accuracy: 0.9856 - val_loss: 0.0339 - val_accuracy: 0.9903\n",
            "Epoch 10/15\n",
            "422/422 [==============================] - 40s 95ms/step - loss: 0.0417 - accuracy: 0.9868 - val_loss: 0.0318 - val_accuracy: 0.9915\n",
            "Epoch 11/15\n",
            "422/422 [==============================] - 40s 95ms/step - loss: 0.0399 - accuracy: 0.9870 - val_loss: 0.0316 - val_accuracy: 0.9918\n",
            "Epoch 12/15\n",
            "422/422 [==============================] - 40s 95ms/step - loss: 0.0374 - accuracy: 0.9877 - val_loss: 0.0326 - val_accuracy: 0.9913\n",
            "Epoch 13/15\n",
            "422/422 [==============================] - 40s 95ms/step - loss: 0.0352 - accuracy: 0.9888 - val_loss: 0.0286 - val_accuracy: 0.9918\n",
            "Epoch 14/15\n",
            "422/422 [==============================] - 40s 95ms/step - loss: 0.0335 - accuracy: 0.9894 - val_loss: 0.0313 - val_accuracy: 0.9908\n",
            "Epoch 15/15\n",
            "422/422 [==============================] - 41s 97ms/step - loss: 0.0327 - accuracy: 0.9896 - val_loss: 0.0300 - val_accuracy: 0.9918\n"
          ]
        }
      ]
    },
    {
      "cell_type": "code",
      "source": [
        "def recognize_number(input_image):\n",
        "    # делим картинку с числом на картинки с цифрами\n",
        "    digit_images = np.split(input_image, input_image.shape[1] / 28, axis=1)\n",
        "    digit_images = np.array(digit_images)\n",
        "\n",
        "    # прогоняем картинки с цифрами через модель\n",
        "    prediction_result = model.predict(digit_images)\n",
        "\n",
        "    # обрабатываем результат\n",
        "    ans = \"\"\n",
        "    for case in np.split(prediction_result, len(digit_images)):\n",
        "        predicted = np.argmax(case)\n",
        "        ans += str(predicted)\n",
        "\n",
        "    print(\"Я думаю, что это число:\", ans)\n"
      ],
      "metadata": {
        "id": "27hGQNAtJBMP"
      },
      "execution_count": null,
      "outputs": []
    },
    {
      "cell_type": "code",
      "execution_count": null,
      "metadata": {
        "colab": {
          "base_uri": "https://localhost:8080/",
          "height": 72
        },
        "id": "wd_8LtjDGbAN",
        "outputId": "0b330596-6110-451e-8150-8946ca53d8dc"
      },
      "outputs": [
        {
          "output_type": "display_data",
          "data": {
            "image/png": "[encoded data removed]",
            "text/plain": [
              "<Figure size 432x288 with 1 Axes>"
            ]
          },
          "metadata": {
            "needs_background": "light"
          }
        },
        {
          "output_type": "stream",
          "name": "stdout",
          "text": [
            "Я думаю, что это число: 468503779\n"
          ]
        }
      ],
      "source": [
        "def generate_input_image(possible_digits=x_test,\n",
        "                         input_length=1):\n",
        "    selected_digit_images = [possible_digits[random.randint(0, len(possible_digits))] for _ in range(input_length)]\n",
        "    concatenated = np.concatenate(selected_digit_images, axis=1).squeeze()\n",
        "\n",
        "    # смотрим сгенерированное число\n",
        "    plt.title('сгенерированное число')\n",
        "    plt.imshow(concatenated, cmap='gray')\n",
        "    plt.show()\n",
        "\n",
        "    return concatenated\n",
        "\n",
        "input_image = generate_input_image(input_length=9)\n",
        "\n",
        "recognize_number(input_image)"
      ]
    }
  ]
}