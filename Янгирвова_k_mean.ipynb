{
  "nbformat": 4,
  "nbformat_minor": 0,
  "metadata": {
    "colab": {
      "provenance": []
    },
    "kernelspec": {
      "name": "python3",
      "display_name": "Python 3"
    },
    "language_info": {
      "name": "python"
    }
  },
  "cells": [
    {
      "cell_type": "code",
      "execution_count": null,
      "metadata": {
        "id": "Y_piGgm5srQR"
      },
      "outputs": [],
      "source": [
        "import matplotlib.pyplot as plt\n",
        "import numpy as np"
      ]
    },
    {
      "cell_type": "markdown",
      "source": [
        "# оптимальное значение К"
      ],
      "metadata": {
        "id": "7vBU5rCptjDO"
      }
    },
    {
      "cell_type": "code",
      "source": [
        "kkk = 0\n",
        "jck = []\n",
        "min = 1"
      ],
      "metadata": {
        "id": "hQt75M8mtmjE"
      },
      "execution_count": null,
      "outputs": []
    },
    {
      "cell_type": "markdown",
      "source": [
        "# флаг, который останавливает работу алгоритма при нужном количестве центроидов\n"
      ],
      "metadata": {
        "id": "rKiCSIJItqES"
      }
    },
    {
      "cell_type": "code",
      "source": [
        "isMinKIsFound = False\n"
      ],
      "metadata": {
        "id": "g_88Ii26tqu0"
      },
      "execution_count": null,
      "outputs": []
    },
    {
      "cell_type": "code",
      "source": [
        "def random_point(n):\n",
        "points = []\n",
        "for i in range(n):\n",
        "points.append(np.random.randint(1, 100, 2))\n",
        "return points\n",
        "\n",
        "def init_centroids(points, k):\n",
        "x_c = 0\n",
        "y_c = 0\n",
        "for i in range(len(points)):\n",
        "x_c += points[i][0]\n",
        "y_c += points[i][1]\n",
        "x_c /= len(points)\n",
        "y_c /= len(points)\n",
        "\n",
        "R = 0\n",
        "for i in range(len(points)):\n",
        "if R < dist([x_c, y_c], points[i]):\n",
        "R = dist([x_c, y_c], points[i])\n",
        "\n",
        "centroids = []\n",
        "for i in range(k):\n",
        "x_cntr = R*(np.cos(2*np.pi*i/k)) + x_c\n",
        "y_cntr = R*(np.sin(2*np.pi*i/k)) + y_c\n",
        "centroids.append([x_cntr, y_cntr])\n",
        "\n",
        "return centroids\n",
        "\n",
        "def mean_clusters(points, clusters, k, centroids):\n",
        "for i in range(0, k):\n",
        "z_x, z_y = [], []\n",
        "for j in range(0, len(clusters)):\n",
        "if clusters[j] == i:\n",
        "z_x.append(points[j][0])\n",
        "z_y.append(points[j][1])\n",
        "centroids[i][0] = np.mean(z_x)\n",
        "centroids[i][1] = np.mean(z_y)\n",
        "return centroids\n",
        "\n",
        "def dist(p_i, p_j):\n",
        "return np.sqrt((p_i[0] - p_j[0])**2+(p_i[1] - p_j[1])**2)\n",
        "\n",
        "def check(points, centroids, cluster, k):\n",
        "new_cluster = find_nearest(points, centroids)\n",
        "new_centroids = mean_clusters(points, new_cluster, k, centroids)\n",
        "plot(points, centroids, cluster, k)\n",
        "\n",
        "count = 0\n",
        "for i in range(0, k):\n",
        "clusterSum = 0\n",
        "for j in range(0, len(new_cluster)):\n",
        "if (new_cluster[j] == i):\n",
        "clusterSum += dist(points[j], centroids[i]) ** 2\n",
        "count += clusterSum\n",
        "jck.append(count)\n",
        "\n",
        "return True\n",
        "\n",
        "def plot(points, centroids, cluster, k):\n",
        "clr = ['b', 'g', 'y', 'pink', 'c', 'm', 'k', 'purple', 'orange', 'grey']\n",
        "clrs = []\n",
        "\n",
        "points_x = []\n",
        "points_y = []\n",
        "for i in range(len(points)):\n",
        "points_x.append(points[i][0])\n",
        "points_y.append(points[i][1])\n",
        "clrs.append(clr[int(cluster[i])])\n",
        "\n",
        "centroids_x = []\n",
        "centroids_y = []\n",
        "for i in range(len(centroids)):\n",
        "centroids_x.append(centroids[i][0])\n",
        "centroids_y.append(centroids[i][1])\n",
        "\n",
        "plt.scatter(points_x, points_y, color = clrs)\n",
        "plt.scatter(centroids_x, centroids_y, color = 'r')\n",
        "plt.show()\n",
        "\n",
        "def find_nearest(points, centroids):\n",
        "cluster = np.zeros(len(points))"
      ],
      "metadata": {
        "id": "7YKhCbMGt1hT"
      },
      "execution_count": null,
      "outputs": []
    },
    {
      "cell_type": "markdown",
      "source": [
        "# cluster - из какого кластера"
      ],
      "metadata": {
        "id": "gXzM7lGHt6H6"
      }
    },
    {
      "cell_type": "code",
      "source": [
        "for i in range(len(points)):\n",
        "min_dist = np.infty\n",
        "for j in range(len(centroids)):\n",
        "if min_dist > dist(points[i], centroids[j]):\n",
        "min_dist = dist(points[i], centroids[j])\n",
        "cluster[i] = j\n",
        "return cluster\n",
        "\n",
        "def kmeans(k, points):\n",
        "\n",
        "centroids = init_centroids(points, k)\n",
        "\n",
        "cluster = find_nearest(points, centroids)\n",
        "plot(points, centroids, cluster, k)\n",
        "\n",
        "while not check(points, centroids, cluster, k):\n",
        "check(points, centroids, cluster, k)\n",
        "\n",
        "n = 100\n",
        "points = random_point(n)\n"
      ],
      "metadata": {
        "id": "rI6eozI4t66r"
      },
      "execution_count": null,
      "outputs": []
    },
    {
      "cell_type": "markdown",
      "source": [
        "# считаем алгоритм до оптимального значения K"
      ],
      "metadata": {
        "id": "qdLAm_Rwt-yq"
      }
    },
    {
      "cell_type": "code",
      "source": [
        "for i in range(1, 10):\n",
        "kmeans(i, points)\n",
        "\n",
        "def evristika(jckminus, jckcurrent, jckplus):\n",
        "return (jckcurrent-jckplus)/(jckminus-jckcurrent)\n",
        "\n",
        "def find_optimal_k():\n",
        "arr = []\n",
        "min = 1000000\n",
        "for i in range(1, len(jck) - 1):\n",
        "arr.append(evristika(jck[i - 1], jck[i], jck[i + 1]))\n",
        "if (arr[i - 1] < min):\n",
        "min = arr[i - 1]\n",
        "return arr.index(min) + 2\n",
        "\n",
        "print(find_optimal_k())\n",
        "plt.plot(range(1, 10), jck)\n",
        "plt.xlabel('Cluster Num')\n",
        "plt.ylabel('J(Ck)')\n",
        "plt.show()"
      ],
      "metadata": {
        "id": "Gc0-OT6zuE0Q"
      },
      "execution_count": null,
      "outputs": []
    }
  ]
}